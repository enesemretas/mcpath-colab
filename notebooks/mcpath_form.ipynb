{
  "nbformat": 4,
  "nbformat_minor": 0,
  "metadata": {
    "colab": {
      "provenance": [],
      "authorship_tag": "ABX9TyOHeym8/FXv/kzxUzx9hemq",
      "include_colab_link": true
    },
    "kernelspec": {
      "name": "python3",
      "display_name": "Python 3"
    },
    "language_info": {
      "name": "python"
    }
  },
  "cells": [
    {
      "cell_type": "markdown",
      "metadata": {
        "id": "view-in-github",
        "colab_type": "text"
      },
      "source": [
        "<a href=\"https://colab.research.google.com/github/enesemretas/mcpath-colab/blob/main/notebooks/mcpath_form.ipynb\" target=\"_parent\"><img src=\"https://colab.research.google.com/assets/colab-badge.svg\" alt=\"Open In Colab\"/></a>"
      ]
    },
    {
      "cell_type": "code",
      "execution_count": 2,
      "metadata": {
        "colab": {
          "base_uri": "https://localhost:8080/",
          "height": 393
        },
        "id": "AcP8wyHsweY5",
        "outputId": "7039082a-6241-4801-8fb7-67d1dc2bb0fc"
      },
      "outputs": [
        {
          "output_type": "error",
          "ename": "ModuleNotFoundError",
          "evalue": "No module named 'mcpath'",
          "traceback": [
            "\u001b[0;31m---------------------------------------------------------------------------\u001b[0m",
            "\u001b[0;31mModuleNotFoundError\u001b[0m                       Traceback (most recent call last)",
            "\u001b[0;32m/tmp/ipython-input-3439788764.py\u001b[0m in \u001b[0;36m<cell line: 0>\u001b[0;34m()\u001b[0m\n\u001b[1;32m     15\u001b[0m \u001b[0;32mimport\u001b[0m \u001b[0mimportlib\u001b[0m\u001b[0;34m,\u001b[0m \u001b[0msubprocess\u001b[0m\u001b[0;34m,\u001b[0m \u001b[0msys\u001b[0m\u001b[0;34m\u001b[0m\u001b[0;34m\u001b[0m\u001b[0m\n\u001b[1;32m     16\u001b[0m \u001b[0msubprocess\u001b[0m\u001b[0;34m.\u001b[0m\u001b[0mrun\u001b[0m\u001b[0;34m(\u001b[0m\u001b[0;34m[\u001b[0m\u001b[0;34m\"git\"\u001b[0m\u001b[0;34m,\u001b[0m \u001b[0;34m\"-C\"\u001b[0m\u001b[0;34m,\u001b[0m \u001b[0;34m\"/content/mcpath-colab\"\u001b[0m\u001b[0;34m,\u001b[0m \u001b[0;34m\"pull\"\u001b[0m\u001b[0;34m]\u001b[0m\u001b[0;34m,\u001b[0m \u001b[0mcheck\u001b[0m\u001b[0;34m=\u001b[0m\u001b[0;32mTrue\u001b[0m\u001b[0;34m)\u001b[0m\u001b[0;34m\u001b[0m\u001b[0;34m\u001b[0m\u001b[0m\n\u001b[0;32m---> 17\u001b[0;31m \u001b[0;32mimport\u001b[0m \u001b[0mimportlib\u001b[0m\u001b[0;34m,\u001b[0m \u001b[0mmcpath\u001b[0m\u001b[0;34m.\u001b[0m\u001b[0mui\u001b[0m \u001b[0;32mas\u001b[0m \u001b[0mmcui\u001b[0m\u001b[0;34m\u001b[0m\u001b[0;34m\u001b[0m\u001b[0m\n\u001b[0m\u001b[1;32m     18\u001b[0m \u001b[0mimportlib\u001b[0m\u001b[0;34m.\u001b[0m\u001b[0mreload\u001b[0m\u001b[0;34m(\u001b[0m\u001b[0mmcui\u001b[0m\u001b[0;34m)\u001b[0m\u001b[0;34m\u001b[0m\u001b[0;34m\u001b[0m\u001b[0m\n\u001b[1;32m     19\u001b[0m \u001b[0;32mfrom\u001b[0m \u001b[0mmcpath\u001b[0m\u001b[0;34m.\u001b[0m\u001b[0mui\u001b[0m \u001b[0;32mimport\u001b[0m \u001b[0mlaunch\u001b[0m\u001b[0;34m\u001b[0m\u001b[0;34m\u001b[0m\u001b[0m\n",
            "\u001b[0;31mModuleNotFoundError\u001b[0m: No module named 'mcpath'",
            "",
            "\u001b[0;31m---------------------------------------------------------------------------\u001b[0;32m\nNOTE: If your import is failing due to a missing package, you can\nmanually install dependencies using either !pip or !apt.\n\nTo view examples of installing some common dependencies, click the\n\"Open Examples\" button below.\n\u001b[0;31m---------------------------------------------------------------------------\u001b[0m\n"
          ],
          "errorDetails": {
            "actions": [
              {
                "action": "open_url",
                "actionText": "Open Examples",
                "url": "/notebooks/snippets/importing_libraries.ipynb"
              }
            ]
          }
        }
      ],
      "source": [
        "# @title Launch MCPath UI from repo (robust import)\n",
        "!pip -q install pyyaml ipywidgets requests\n",
        "\n",
        "import sys, pathlib, shutil, subprocess, os, importlib\n",
        "\n",
        "REPO_URL = \"https://github.com/enesemretas/mcpath-colab.git\"\n",
        "REPO_DIR = pathlib.Path(\"/content/mcpath-colab\")\n",
        "PKG_DIR  = REPO_DIR / \"mcpath\"\n",
        "\n",
        "# Clone if needed; otherwise pull latest\n",
        "if not REPO_DIR.exists():\n",
        "    subprocess.run([\"git\", \"clone\", \"--depth\", \"1\", REPO_URL, str(REPO_DIR)], check=True)\n",
        "else:\n",
        "    subprocess.run([\"git\", \"-C\", str(REPO_DIR), \"pull\"], check=True)\n",
        "\n",
        "# Ensure package is a proper Python package\n",
        "PKG_DIR.mkdir(parents=True, exist_ok=True)\n",
        "init_file = PKG_DIR / \"__init__.py\"\n",
        "if not init_file.exists():\n",
        "    init_file.write_text(\"\")  # create empty __init__.py if missing\n",
        "\n",
        "# Make the repo importable\n",
        "if str(REPO_DIR) not in sys.path:\n",
        "    sys.path.append(str(REPO_DIR))\n",
        "\n",
        "# Optional: print a quick tree for sanity\n",
        "print(\"Repo contents:\", list(REPO_DIR.iterdir()))\n",
        "print(\"mcpath contents:\", list(PKG_DIR.iterdir()))\n",
        "\n",
        "# Import & launch\n",
        "import mcpath.ui as mcui\n",
        "importlib.reload(mcui)  # in case you re-run this cell after edits\n",
        "from mcpath.ui import launch\n",
        "\n",
        "# For ipywidgets in Colab\n",
        "try:\n",
        "    from google.colab import output\n",
        "    output.enable_custom_widget_manager()\n",
        "except Exception:\n",
        "    pass\n",
        "\n",
        "launch(\n",
        "    defaults_url=\"https://raw.githubusercontent.com/enesemretas/mcpath-colab/main/config/defaults.yaml\",\n",
        "    show_title=\"MCPath (Python readpdb)\"\n",
        ")\n"
      ]
    }
  ]
}