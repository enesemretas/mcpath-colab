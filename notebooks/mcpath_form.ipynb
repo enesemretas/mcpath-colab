{
  "nbformat": 4,
  "nbformat_minor": 0,
  "metadata": {
    "colab": {
      "provenance": [],
      "authorship_tag": "ABX9TyPpbDFmbS4Ds/9euFoyHTZc",
      "include_colab_link": true
    },
    "kernelspec": {
      "name": "python3",
      "display_name": "Python 3"
    },
    "language_info": {
      "name": "python"
    },
    "widgets": {
      "application/vnd.jupyter.widget-state+json": {}
    }
  },
  "cells": [
    {
      "cell_type": "markdown",
      "metadata": {
        "id": "view-in-github",
        "colab_type": "text"
      },
      "source": [
        "<a href=\"https://colab.research.google.com/github/enesemretas/mcpath-colab/blob/main/notebooks/mcpath_form.ipynb\" target=\"_parent\"><img src=\"https://colab.research.google.com/assets/colab-badge.svg\" alt=\"Open In Colab\"/></a>"
      ]
    },
    {
      "cell_type": "code",
      "execution_count": 3,
      "metadata": {
        "colab": {
          "base_uri": "https://localhost:8080/",
          "height": 35,
          "referenced_widgets": [
            "ee176cd257534dd293d897b6e8c5e827"
          ]
        },
        "id": "AcP8wyHsweY5",
        "outputId": "5de31a52-cf24-4463-a3c4-3b7505c88730"
      },
      "outputs": [
        {
          "output_type": "display_data",
          "data": {
            "text/plain": [
              "VBox(children=(HBox(children=(Image(value=b'\\x89PNG\\r\\n\\x1a\\n\\x00\\x00\\x00\\rIHDR\\x00\\x00\\x01\\x90\\x00\\x00\\x01\\x9…"
            ],
            "application/vnd.jupyter.widget-view+json": {
              "version_major": 2,
              "version_minor": 0,
              "model_id": "ee176cd257534dd293d897b6e8c5e827"
            }
          },
          "metadata": {}
        }
      ],
      "source": [
        "# @title MCPath (User Interface Only)\n",
        "!pip -q install pyyaml ipywidgets requests\n",
        "\n",
        "import sys, shutil, pathlib, subprocess\n",
        "REPO_URL = \"https://github.com/enesemretas/mcpath-colab.git\"\n",
        "REPO_DIR = pathlib.Path(\"/content/mcpath-colab\")\n",
        "\n",
        "# Remove any stale copy, then clone fresh (quiet)\n",
        "if REPO_DIR.exists():\n",
        "    shutil.rmtree(REPO_DIR)\n",
        "subprocess.run([\"git\", \"clone\", \"--depth\", \"1\", REPO_URL, str(REPO_DIR)], check=True)\n",
        "\n",
        "sys.path.append(str(REPO_DIR))\n",
        "\n",
        "from mcpath.ui import launch\n",
        "launch(\n",
        "    defaults_url=\"https://raw.githubusercontent.com/enesemretas/mcpath-colab/main/config/defaults.yaml\",\n",
        "    show_title=\"MCPath-style Parameters\"\n",
        ")\n"
      ]
    }
  ]
}