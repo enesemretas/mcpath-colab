{
  "nbformat": 4,
  "nbformat_minor": 0,
  "metadata": {
    "colab": {
      "provenance": [],
      "authorship_tag": "ABX9TyPOmH9eli40MBw5pox6/xwl",
      "include_colab_link": true
    },
    "kernelspec": {
      "name": "python3",
      "display_name": "Python 3"
    },
    "language_info": {
      "name": "python"
    }
  },
  "cells": [
    {
      "cell_type": "markdown",
      "metadata": {
        "id": "view-in-github",
        "colab_type": "text"
      },
      "source": [
        "<a href=\"https://colab.research.google.com/github/enesemretas/mcpath-colab/blob/main/notebooks/mcpath_form.ipynb\" target=\"_parent\"><img src=\"https://colab.research.google.com/assets/colab-badge.svg\" alt=\"Open In Colab\"/></a>"
      ]
    },
    {
      "cell_type": "code",
      "execution_count": null,
      "metadata": {
        "id": "AcP8wyHsweY5"
      },
      "outputs": [],
      "source": [
        "# @title MCPath (Python readpdb)\n",
        "!pip -q install pyyaml ipywidgets requests\n",
        "from google.colab import output\n",
        "output.enable_custom_widget_manager()\n",
        "\n",
        "import sys, shutil, pathlib, subprocess\n",
        "REPO_URL = \"https://github.com/enesemretas/mcpath-colab.git\"\n",
        "REPO_DIR = pathlib.Path(\"/content/mcpath-colab\")\n",
        "\n",
        "# Fresh clone\n",
        "if REPO_DIR.exists():\n",
        "    shutil.rmtree(REPO_DIR)\n",
        "subprocess.run([\"git\", \"clone\", \"--depth\", \"1\", REPO_URL, str(REPO_DIR)], check=True)\n",
        "\n",
        "sys.path.append(str(REPO_DIR))\n",
        "from mcpath.ui import launch\n",
        "launch(\n",
        "    defaults_url=\"https://raw.githubusercontent.com/enesemretas/mcpath-colab/main/config/defaults.yaml\",\n",
        "    show_title=\"MCPath (Python readpdb)\"\n",
        ")\n"
      ]
    }
  ]
}